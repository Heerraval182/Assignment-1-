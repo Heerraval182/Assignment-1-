{
 "cells": [
  {
   "cell_type": "code",
   "execution_count": 1,
   "id": "bab78fbd",
   "metadata": {},
   "outputs": [
    {
     "name": "stdout",
     "output_type": "stream",
     "text": [
      "Fan is spinning at medium speed.\n",
      "Light is currently ON.\n",
      "AC is set to 22°C.\n"
     ]
    }
   ],
   "source": [
    "class Appliance:\n",
    "    def status(self):\n",
    "        print(\"Generic appliance status.\")\n",
    "\n",
    "class Fan(Appliance):\n",
    "    def status(self):\n",
    "        print(\"Fan is spinning at medium speed.\")\n",
    "\n",
    "class Light(Appliance):\n",
    "    def status(self):\n",
    "        print(\"Light is currently ON.\")\n",
    "\n",
    "class AC(Appliance):\n",
    "    def status(self):\n",
    "        print(\"AC is set to 22°C.\")\n",
    "\n",
    "# Demonstrate polymorphism\n",
    "devices = [Fan(), Light(), AC()]\n",
    "for device in devices:\n",
    "    device.status()\n"
   ]
  },
  {
   "cell_type": "code",
   "execution_count": null,
   "id": "3e2e609c",
   "metadata": {},
   "outputs": [],
   "source": []
  },
  {
   "cell_type": "code",
   "execution_count": null,
   "id": "dfeb7e14",
   "metadata": {},
   "outputs": [],
   "source": []
  }
 ],
 "metadata": {
  "kernelspec": {
   "display_name": "Python 3 (ipykernel)",
   "language": "python",
   "name": "python3"
  },
  "language_info": {
   "codemirror_mode": {
    "name": "ipython",
    "version": 3
   },
   "file_extension": ".py",
   "mimetype": "text/x-python",
   "name": "python",
   "nbconvert_exporter": "python",
   "pygments_lexer": "ipython3",
   "version": "3.11.5"
  }
 },
 "nbformat": 4,
 "nbformat_minor": 5
}
