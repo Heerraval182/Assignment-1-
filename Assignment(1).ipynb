{
 "cells": [
  {
   "cell_type": "code",
   "execution_count": 4,
   "id": "dceb8784",
   "metadata": {},
   "outputs": [],
   "source": [
    "class Member:\n",
    "    def __init__(self, name, membership_id):\n",
    "        self.name = name\n",
    "        self.membership_id = membership_id\n",
    "\n",
    "    def display_info(self):\n",
    "        print(f\"Member Name: {self.name}, ID: {self.membership_id}\")\n",
    "\n",
    "class StudentMember(Member):\n",
    "    def __init__(self, name, membership_id):\n",
    "        super().__init__(name, membership_id)\n",
    "        self.books_borrowed = 0\n",
    "\n",
    "    def add_book(self):\n",
    "        self.books_borrowed += 1\n",
    "        print(\"Book checked out.\")\n",
    "\n",
    "    def return_book(self):\n",
    "        if self.books_borrowed > 0:\n",
    "            self.books_borrowed -= 1\n",
    "            print(\"Book returned.\")\n",
    "        else:\n",
    "            print(\"No books to return.\")\n",
    "\n",
    "    def display_status(self):\n",
    "        print(f\"{self.name} has borrowed {self.books_borrowed} book(s).\")\n"
   ]
  },
  {
   "cell_type": "code",
   "execution_count": null,
   "id": "aa92a5e7",
   "metadata": {},
   "outputs": [],
   "source": []
  }
 ],
 "metadata": {
  "kernelspec": {
   "display_name": "Python 3 (ipykernel)",
   "language": "python",
   "name": "python3"
  },
  "language_info": {
   "codemirror_mode": {
    "name": "ipython",
    "version": 3
   },
   "file_extension": ".py",
   "mimetype": "text/x-python",
   "name": "python",
   "nbconvert_exporter": "python",
   "pygments_lexer": "ipython3",
   "version": "3.11.5"
  }
 },
 "nbformat": 4,
 "nbformat_minor": 5
}
