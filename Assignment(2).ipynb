{
 "cells": [
  {
   "cell_type": "code",
   "execution_count": 1,
   "id": "5e1e746e",
   "metadata": {},
   "outputs": [
    {
     "name": "stdout",
     "output_type": "stream",
     "text": [
      "Device ID: DR-001\n",
      "Drone is flying.\n",
      "Image captured.\n"
     ]
    }
   ],
   "source": [
    "class Device:\n",
    "    def __init__(self, device_id):\n",
    "        self.device_id = device_id\n",
    "\n",
    "    def device_info(self):\n",
    "        print(f\"Device ID: {self.device_id}\")\n",
    "\n",
    "class Flyer:\n",
    "    def fly(self):\n",
    "        print(\"Drone is flying.\")\n",
    "\n",
    "class Drone(Device, Flyer):\n",
    "    def __init__(self, device_id):\n",
    "        super().__init__(device_id)\n",
    "\n",
    "    def capture_image(self):\n",
    "        print(\"Image captured.\")\n",
    "\n",
    "# Demonstration\n",
    "drone1 = Drone(\"DR-001\")\n",
    "drone1.device_info()\n",
    "drone1.fly()\n",
    "drone1.capture_image()\n"
   ]
  },
  {
   "cell_type": "code",
   "execution_count": null,
   "id": "bb9292f7",
   "metadata": {},
   "outputs": [],
   "source": []
  }
 ],
 "metadata": {
  "kernelspec": {
   "display_name": "Python 3 (ipykernel)",
   "language": "python",
   "name": "python3"
  },
  "language_info": {
   "codemirror_mode": {
    "name": "ipython",
    "version": 3
   },
   "file_extension": ".py",
   "mimetype": "text/x-python",
   "name": "python",
   "nbconvert_exporter": "python",
   "pygments_lexer": "ipython3",
   "version": "3.11.5"
  }
 },
 "nbformat": 4,
 "nbformat_minor": 5
}
