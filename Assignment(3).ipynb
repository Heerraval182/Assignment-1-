{
 "cells": [
  {
   "cell_type": "code",
   "execution_count": 1,
   "id": "b88280a9",
   "metadata": {},
   "outputs": [],
   "source": [
    "class User:\n",
    "    def __init__(self, name, email):\n",
    "        self.name = name\n",
    "        self.email = email\n",
    "\n",
    "    def display_info(self):\n",
    "        print(f\"User: {self.name}, Email: {self.email}\")\n",
    "\n",
    "class Instructor(User):\n",
    "    def __init__(self, name, email, subject):\n",
    "        super().__init__(name, email)\n",
    "        self.subject = subject\n",
    "\n",
    "    def upload_content(self):\n",
    "        print(f\"{self.name} uploaded content for {self.subject}.\")\n",
    "\n",
    "    def display_info(self):\n",
    "        print(f\"Instructor: {self.name}, Subject: {self.subject}\")\n",
    "\n",
    "class CourseCreator(Instructor):\n",
    "    def __init__(self, name, email, subject):\n",
    "        super().__init__(name, email, subject)\n",
    "        self.courses = []\n",
    "\n",
    "    def create_course(self, course_name):\n",
    "        self.courses.append(course_name)\n",
    "        print(f\"Course '{course_name}' created.\")\n",
    "\n",
    "    def display_info(self):\n",
    "        print(f\"Course Creator: {self.name}, Courses: {', '.join(self.courses)}\")\n"
   ]
  },
  {
   "cell_type": "code",
   "execution_count": null,
   "id": "11d5ce13",
   "metadata": {},
   "outputs": [],
   "source": []
  }
 ],
 "metadata": {
  "kernelspec": {
   "display_name": "Python 3 (ipykernel)",
   "language": "python",
   "name": "python3"
  },
  "language_info": {
   "codemirror_mode": {
    "name": "ipython",
    "version": 3
   },
   "file_extension": ".py",
   "mimetype": "text/x-python",
   "name": "python",
   "nbconvert_exporter": "python",
   "pygments_lexer": "ipython3",
   "version": "3.11.5"
  }
 },
 "nbformat": 4,
 "nbformat_minor": 5
}
